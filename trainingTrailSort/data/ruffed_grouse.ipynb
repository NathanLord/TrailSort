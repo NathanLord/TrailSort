{
 "cells": [
  {
   "cell_type": "markdown",
   "metadata": {},
   "source": [
    "## Ruffed Grouse image extraction from csv"
   ]
  },
  {
   "cell_type": "code",
   "execution_count": 1,
   "metadata": {},
   "outputs": [],
   "source": [
    "import pandas as pd\n",
    "import requests\n",
    "import os\n",
    "\n",
    "\n"
   ]
  },
  {
   "cell_type": "code",
   "execution_count": 2,
   "metadata": {},
   "outputs": [],
   "source": [
    "# Load the CSV file\n",
    "# Define the paths\n",
    "csv_file = r'C:\\Users\\kdlor\\Documents\\Documents\\projects\\ImageClassification\\ruffed_grouse.csv'\n",
    "output_dir = r'D:\\datasets\\trailSortData\\ruffedGrouse'\n",
    "\n"
   ]
  },
  {
   "cell_type": "code",
   "execution_count": 3,
   "metadata": {},
   "outputs": [],
   "source": [
    "df = pd.read_csv(csv_file)"
   ]
  },
  {
   "cell_type": "code",
   "execution_count": 4,
   "metadata": {},
   "outputs": [],
   "source": [
    "# Create the output directory\n",
    "os.makedirs(output_dir, exist_ok=True)\n",
    "\n"
   ]
  },
  {
   "cell_type": "code",
   "execution_count": 5,
   "metadata": {},
   "outputs": [
    {
     "name": "stdout",
     "output_type": "stream",
     "text": [
      "Download complete.\n"
     ]
    }
   ],
   "source": [
    "# Limit to the first 7000 images ~ 16,000\n",
    "for index, row in df.head(7000).iterrows():\n",
    "    image_url = row['image_url']  # Change this if your column header is different\n",
    "    try:\n",
    "        img_response = requests.get(image_url)\n",
    "        img_response.raise_for_status()  # Raise an error for bad responses\n",
    "        img_name = f'ruffed_grouse_images/image_{index + 1}.jpg'\n",
    "        with open(img_name, 'wb') as img_file:\n",
    "            img_file.write(img_response.content)\n",
    "        # print(f'Downloaded {img_name}')\n",
    "    except Exception as e:\n",
    "        print(f'Failed to download {image_url}: {e}')\n",
    "\n",
    "print('Download complete.')"
   ]
  }
 ],
 "metadata": {
  "kernelspec": {
   "display_name": "Python 3",
   "language": "python",
   "name": "python3"
  },
  "language_info": {
   "codemirror_mode": {
    "name": "ipython",
    "version": 3
   },
   "file_extension": ".py",
   "mimetype": "text/x-python",
   "name": "python",
   "nbconvert_exporter": "python",
   "pygments_lexer": "ipython3",
   "version": "3.10.7"
  }
 },
 "nbformat": 4,
 "nbformat_minor": 2
}
