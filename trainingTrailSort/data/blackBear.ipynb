{
 "cells": [
  {
   "cell_type": "markdown",
   "metadata": {},
   "source": [
    "## Black Bear image extraction from csv"
   ]
  },
  {
   "cell_type": "code",
   "execution_count": 1,
   "metadata": {},
   "outputs": [],
   "source": [
    "import pandas as pd\n",
    "import requests\n",
    "import os\n",
    "\n",
    "\n"
   ]
  },
  {
   "cell_type": "code",
   "execution_count": 2,
   "metadata": {},
   "outputs": [],
   "source": [
    "# Load the CSV file\n",
    "csv_file = r'C:\\Users\\kdlor\\Documents\\Documents\\projects\\ImageClassification\\observations-481178_blackBear.csv'\n",
    "output_dir = r'D:\\datasets\\trailSortData\\blackBear'\n",
    "\n"
   ]
  },
  {
   "cell_type": "code",
   "execution_count": null,
   "metadata": {},
   "outputs": [],
   "source": [
    "# Read the CSV\n",
    "df = pd.read_csv(csv_file, dtype={'image_url': str}, low_memory=False)"
   ]
  },
  {
   "cell_type": "code",
   "execution_count": 4,
   "metadata": {},
   "outputs": [],
   "source": [
    "# Create the output directory\n",
    "os.makedirs(output_dir, exist_ok=True)\n",
    "\n"
   ]
  },
  {
   "cell_type": "code",
   "execution_count": 5,
   "metadata": {},
   "outputs": [
    {
     "name": "stdout",
     "output_type": "stream",
     "text": [
      "Download complete.\n"
     ]
    }
   ],
   "source": [
    "\n",
    "# Limit to the first 10,000 images of ~40,0000\n",
    "for index, row in df.head(10000).iterrows():\n",
    "    image_url = row['image_url']  # Ensure this matches the correct column name\n",
    "    try:\n",
    "        img_response = requests.get(image_url)\n",
    "        img_response.raise_for_status()  # Raise an error for bad responses\n",
    "        \n",
    "        # Save the image in the correct directory on D drive\n",
    "        img_name = os.path.join(output_dir, f'image_{index + 1}.jpg')\n",
    "        with open(img_name, 'wb') as img_file:\n",
    "            img_file.write(img_response.content)\n",
    "        # print(f'Downloaded {img_name}')\n",
    "    except Exception as e:\n",
    "        print(f'Failed to download {image_url}: {e}')\n",
    "\n",
    "print('Download complete.')"
   ]
  }
 ],
 "metadata": {
  "kernelspec": {
   "display_name": "Python 3",
   "language": "python",
   "name": "python3"
  },
  "language_info": {
   "codemirror_mode": {
    "name": "ipython",
    "version": 3
   },
   "file_extension": ".py",
   "mimetype": "text/x-python",
   "name": "python",
   "nbconvert_exporter": "python",
   "pygments_lexer": "ipython3",
   "version": "3.10.7"
  }
 },
 "nbformat": 4,
 "nbformat_minor": 2
}
